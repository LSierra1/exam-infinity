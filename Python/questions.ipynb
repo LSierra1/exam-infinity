{
 "cells": [
  {
   "cell_type": "markdown",
   "metadata": {},
   "source": [
    "# [PY-A01]\n",
    "#### Faça um programa em Python que, utilizando estruturas de repetição, calcule a média de idade dos alunos de uma turma. O programa deve pedir ao usuário a quantidade de alunos na turma e, em seguida, solicitar a idade de cada um. O programa deve utilizar um laço FOR para receber as idades dos alunos e um laço WHILE para realizar a soma das idades. Ao final, o programa deve exibir a média de idade da turma."
   ]
  },
  {
   "cell_type": "code",
   "execution_count": null,
   "metadata": {},
   "outputs": [],
   "source": [
    "quantities = int(input(\"Digite a quantidade de alunos na turma: \"))\n",
    "accumulator = 0\n",
    "\n",
    "for i in range(quantities):\n",
    "    ages = int(input(f\"Digite a idade do {i+1}° aluno: \"))\n",
    "    accumulator += ages\n",
    "\n",
    "print(f\"A média de idades da sala (total de {quantities} alunos) é de, aproximadamente, {accumulator / quantities} anos.\")"
   ]
  },
  {
   "cell_type": "markdown",
   "metadata": {},
   "source": [
    "> Não consegui entender onde eu usaria o <code>while</code> dentro da questão, já que o código pode ser resolvido de uma maneira mais simples."
   ]
  }
 ],
 "metadata": {
  "kernelspec": {
   "display_name": "Python 3",
   "language": "python",
   "name": "python3"
  },
  "language_info": {
   "name": "python",
   "version": "3.11.5"
  }
 },
 "nbformat": 4,
 "nbformat_minor": 2
}
