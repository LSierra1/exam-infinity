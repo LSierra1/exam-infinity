{
 "cells": [
  {
   "cell_type": "markdown",
   "metadata": {},
   "source": [
    "# [PY-A01]"
   ]
  },
  {
   "cell_type": "markdown",
   "metadata": {},
   "source": [
    "#### Faça um programa em Python que, utilizando estruturas de repetição, calcule a média de idade dos alunos de uma turma. O programa deve pedir ao usuário a quantidade de alunos na turma e, em seguida, solicitar a idade de cada um. O programa deve utilizar um laço FOR para receber as idades dos alunos e um laço WHILE para realizar a soma das idades. Ao final, o programa deve exibir a média de idade da turma."
   ]
  },
  {
   "cell_type": "code",
   "execution_count": null,
   "metadata": {},
   "outputs": [],
   "source": [
    "quantities = int(input(\"Digite a quantidade de alunos na turma: \"))\n",
    "accumulator = 0\n",
    "\n",
    "for i in range(quantities):\n",
    "    ages = int(input(f\"Digite a idade do {i+1}° aluno: \"))\n",
    "    accumulator += ages\n",
    "\n",
    "print(f\"A média de idades da sala (total de {quantities} alunos) é de, aproximadamente, {accumulator / quantities} anos.\")"
   ]
  },
  {
   "cell_type": "markdown",
   "metadata": {},
   "source": [
    "> Não consegui entender onde eu usaria o <code>while</code> dentro da questão, já que o código pode ser resolvido de uma maneira mais simples."
   ]
  },
  {
   "cell_type": "markdown",
   "metadata": {},
   "source": [
    "# [PY-A02]"
   ]
  },
  {
   "cell_type": "markdown",
   "metadata": {},
   "source": [
    "#### Escreva um programa em Python que receba duas listas como entrada do usuário e retorne uma tupla contendo os elementos em comum entre as duas listas e a soma desses elementos.\n",
    "\n",
    "- Exemplo: Se a entrada do usuário for: Lista 1: [2, 4, 6, 8] Lista 2: [1, 2, 3, 4, 5, 6] O programa deve retornar: ([2, 4, 6], 12)"
   ]
  },
  {
   "cell_type": "code",
   "execution_count": null,
   "metadata": {},
   "outputs": [],
   "source": [
    "numbers1 = list()\n",
    "numbers2 = []\n",
    "\n",
    "while True:\n",
    "    print('Para prosseguir com a próxima lista, digite \"END\".')\n",
    "    addNumber1 = input(\"Digite um número para adicionar na 1° lista: \")\n",
    "    for i in numbers1:\n",
    "        while i == addNumber1:\n",
    "            addNumber1 = input(f\"Número {addNumber1} já na lista. Digite outro número: \")\n",
    "    while addNumber1.isalpha() and addNumber1.upper() != \"END\":\n",
    "        addNumber1 = input(\"Por favor, digite um número: \")\n",
    "    if addNumber1.isdigit():\n",
    "        numbers1.append(addNumber1)\n",
    "    elif not numbers1:\n",
    "        print(\"Você não inseriu nenhum número na lista.\")\n",
    "        exit()\n",
    "    elif addNumber1 not in \"1234567890\" and addNumber1.upper() == \"END\":\n",
    "        break\n",
    "\n",
    "print(\"Agora vamos para a segunda lista. Você poderá inserir os mesmos números que inseriu na lista anterior, porém apenas uma única vez.\")\n",
    "\n",
    "while True:\n",
    "    print('Para parar de adicionar números, digite \"END\".')\n",
    "    addNumber2 = input(\"Digite um número para adicionar na 2° lista: \")\n",
    "    for j in numbers2:\n",
    "        while j == addNumber2:\n",
    "            addNumber2 = input(f\"Número {addNumber2} já na lista. Digite outro número: \")\n",
    "    while addNumber2.isalpha() and addNumber2.upper() != \"END\":\n",
    "        addNumber2 = input(\"Por favor, digite um número: \")\n",
    "    if addNumber2.isdigit():\n",
    "        numbers2.append(addNumber2)\n",
    "    elif not numbers2:\n",
    "        print(\"Você não inseriu nenhum número na lista.\")\n",
    "        exit()\n",
    "    elif addNumber2 not in \"1234567890\" and addNumber2.upper() == \"END\":\n",
    "        break\n",
    "\n",
    "commonNumbers = []\n",
    "soma = 0\n",
    "\n",
    "for numberCheck1 in numbers1:\n",
    "    for numberCheck2 in numbers2:\n",
    "        if numberCheck1 == numberCheck2:\n",
    "            commonNumbers.append(numberCheck1)\n",
    "            soma += int(numberCheck1) # Por algum motivo, o código dá erro caso eu não converta o numberCheck1 para int\n",
    "\n",
    "print(\"Lista 1:\", numbers1)\n",
    "print(\"Lista 2:\", numbers2)\n",
    "print(\"Números em comum:\", commonNumbers)\n",
    "print(\"Soma dos números em comum:\", soma)\n"
   ]
  }
 ],
 "metadata": {
  "kernelspec": {
   "display_name": "Python 3",
   "language": "python",
   "name": "python3"
  },
  "language_info": {
   "name": "python",
   "version": "3.11.5"
  }
 },
 "nbformat": 4,
 "nbformat_minor": 2
}
