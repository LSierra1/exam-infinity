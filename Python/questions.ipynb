{
 "cells": [
  {
   "cell_type": "markdown",
   "metadata": {},
   "source": [
    "# [PY-A01]"
   ]
  },
  {
   "cell_type": "markdown",
   "metadata": {},
   "source": [
    "#### Faça um programa em Python que, utilizando estruturas de repetição, calcule a média de idade dos alunos de uma turma. O programa deve pedir ao usuário a quantidade de alunos na turma e, em seguida, solicitar a idade de cada um. O programa deve utilizar um laço FOR para receber as idades dos alunos e um laço WHILE para realizar a soma das idades. Ao final, o programa deve exibir a média de idade da turma."
   ]
  },
  {
   "cell_type": "code",
   "execution_count": null,
   "metadata": {},
   "outputs": [],
   "source": [
    "quantities = int(input(\"Digite a quantidade de alunos na turma: \"))\n",
    "accumulator = 0\n",
    "\n",
    "for i in range(quantities):\n",
    "    ages = int(input(f\"Digite a idade do {i+1}° aluno: \"))\n",
    "    accumulator += ages\n",
    "\n",
    "print(f\"A média de idades da sala (total de {quantities} alunos) é de, aproximadamente, {accumulator / quantities} anos.\")"
   ]
  },
  {
   "cell_type": "markdown",
   "metadata": {},
   "source": [
    "> Não consegui entender onde eu usaria o <code>while</code> dentro da questão, já que o código pode ser resolvido de uma maneira mais simples."
   ]
  },
  {
   "cell_type": "markdown",
   "metadata": {},
   "source": [
    "# [PY-A02]"
   ]
  },
  {
   "cell_type": "markdown",
   "metadata": {},
   "source": [
    "#### Escreva um programa em Python que receba duas listas como entrada do usuário e retorne uma tupla contendo os elementos em comum entre as duas listas e a soma desses elementos.\n",
    "\n",
    "- Exemplo: Se a entrada do usuário for: Lista 1: [2, 4, 6, 8] Lista 2: [1, 2, 3, 4, 5, 6] O programa deve retornar: ([2, 4, 6], 12)"
   ]
  },
  {
   "cell_type": "code",
   "execution_count": null,
   "metadata": {},
   "outputs": [],
   "source": [
    "numbers1 = list()\n",
    "numbers2 = []\n",
    "\n",
    "while True:\n",
    "    print('Para prosseguir com a próxima lista, digite \"END\".')\n",
    "    addNumber1 = input(\"Digite um número para adicionar na 1° lista: \")\n",
    "    for i in numbers1:\n",
    "        while i == addNumber1:\n",
    "            addNumber1 = input(f\"Número {addNumber1} já na lista. Digite outro número: \")\n",
    "    while addNumber1.isalpha() and addNumber1.upper() != \"END\":\n",
    "        addNumber1 = input(\"Por favor, digite um número: \")\n",
    "    if addNumber1.isdigit():\n",
    "        numbers1.append(addNumber1)\n",
    "    elif not numbers1:\n",
    "        print(\"Você não inseriu nenhum número na lista.\")\n",
    "        exit()\n",
    "    elif addNumber1 not in \"1234567890\" and addNumber1.upper() == \"END\":\n",
    "        break\n",
    "\n",
    "print(\"Agora vamos para a segunda lista. Você poderá inserir os mesmos números que inseriu na lista anterior, porém apenas uma única vez.\")\n",
    "\n",
    "while True:\n",
    "    print('Para parar de adicionar números, digite \"END\".')\n",
    "    addNumber2 = input(\"Digite um número para adicionar na 2° lista: \")\n",
    "    for j in numbers2:\n",
    "        while j == addNumber2:\n",
    "            addNumber2 = input(f\"Número {addNumber2} já na lista. Digite outro número: \")\n",
    "    while addNumber2.isalpha() and addNumber2.upper() != \"END\":\n",
    "        addNumber2 = input(\"Por favor, digite um número: \")\n",
    "    if addNumber2.isdigit():\n",
    "        numbers2.append(addNumber2)\n",
    "    elif not numbers2:\n",
    "        print(\"Você não inseriu nenhum número na lista.\")\n",
    "        exit()\n",
    "    elif addNumber2 not in \"1234567890\" and addNumber2.upper() == \"END\":\n",
    "        break\n",
    "\n",
    "commonNumbers = []\n",
    "soma = 0\n",
    "\n",
    "for numberCheck1 in numbers1:\n",
    "    for numberCheck2 in numbers2:\n",
    "        if numberCheck1 == numberCheck2:\n",
    "            commonNumbers.append(numberCheck1)\n",
    "            soma += int(numberCheck1) # Por algum motivo, o código dá erro caso eu não converta o numberCheck1 para int\n",
    "\n",
    "print(\"Lista 1:\", numbers1)\n",
    "print(\"Lista 2:\", numbers2)\n",
    "print(\"Números em comum:\", commonNumbers)\n",
    "print(\"Soma dos números em comum:\", soma)\n"
   ]
  },
  {
   "cell_type": "markdown",
   "metadata": {},
   "source": [
    "# [PY-A03]"
   ]
  },
  {
   "cell_type": "markdown",
   "metadata": {},
   "source": [
    "#### Considere o seguinte dicionário em Python:\n",
    "\n",
    "```\n",
    "pessoas = {\n",
    "    \"João\": 23,\n",
    "    \"Maria\": 28,\n",
    "    \"Pedro\": 35,\n",
    "    \"Lucas\": 19\n",
    "}\n",
    "```\n",
    "a) Acesse a idade da pessoa \"João\" e armazene em uma variável chamada idade_joao.\n",
    "\n",
    "b) Adicione uma nova pessoa ao dicionário com nome \"Ana\" e idade 31.\n",
    "\n",
    "c) Crie uma função chamada maior_idade que recebe um dicionário como argumento e retorna o nome da pessoa com a maior idade.\n"
   ]
  },
  {
   "cell_type": "code",
   "execution_count": null,
   "metadata": {},
   "outputs": [],
   "source": [
    "pessoas = {\n",
    "    \"João\": 23,\n",
    "    \"Maria\": 28,\n",
    "    \"Pedro\": 35,\n",
    "    \"Lucas\": 19,\n",
    "    \"Ana\": 16,\n",
    "    \"Mariana\": 45,\n",
    "    \"Gabriel\": 14,\n",
    "    \"Larissa\": 30,\n",
    "    \"Carlos\": 40,\n",
    "    \"Tatiana\": 22,\n",
    "    \"Rafael\": 26,\n",
    "    \"Sofia\": 17,\n",
    "    \"Luiz\": 21,\n",
    "    \"Patricia\": 39,\n",
    "    \"Gustavo\": 18,\n",
    "    \"Daniela\": 27,\n",
    "    \"Fernando\": 33,\n",
    "    \"Camila\": 20,\n",
    "    \"José\": 50,\n",
    "    \"Roberta\": 29,\n",
    "    \"Laura\": 15,\n",
    "    \"Antônio\": 13,\n",
    "    \"Marcos\": 12\n",
    "}\n",
    "idade_joao = 0\n",
    "pessoasMaiorIdade = dict()\n",
    "pessoasMenorIdade = dict()\n",
    "\n",
    "idade_joao += pessoas.get(\"João\") # Transfere a idade de João para uma variável chamada \"idade_joao\".\n",
    "\n",
    "pessoas[\"Ana\"] = 31 # Adiciona uma pessoa chamada \"Ana\" com o valor 31 (31 anos).\n",
    "\n",
    "# Aqui começa uma função para separar as pessoas que tem mais de 18 anos das que tem menos de 18 anos.\n",
    "def maior_idade(pessoas):\n",
    "    \n",
    "    for nome, idade in pessoas.items():\n",
    "        if idade >= 18:\n",
    "            pessoasMaiorIdade[nome] = idade\n",
    "        else:\n",
    "            pessoasMenorIdade[nome] = idade\n",
    "\n",
    "    return pessoasMaiorIdade, pessoasMenorIdade\n",
    "\n",
    "# Chama a função 'maior_idade(pessoas)' para que os valores de return 'pessoasMaiorIdade' e 'pessoasMenorIdade' sejam armazenadas separadamente fora da função.\n",
    "pessoasMaiorIdade, pessoasMenorIdade = maior_idade(pessoas)\n",
    "\n",
    "# Imprime separadamente cada pessoa que tenha mais de 18 anos e menos de 18 anos (bloco criado para uma melhor visualização do resultado final).\n",
    "print(\"Pessoas +18:\")\n",
    "for nome, idade in pessoasMaiorIdade.items():\n",
    "    print(f\"Nome: {nome} || Idade: {idade}\")\n",
    "print(\"------------------------------------------------------------------\\n\"\n",
    "      \"Pessoas -18:\")\n",
    "for nome, idade in pessoasMenorIdade.items():\n",
    "    print(f\"Nome: {nome} || Idade: {idade}\")\n",
    "print(\"------------------------------------------------------------------\")\n",
    "print(\n",
    "    f\"Ana foi adicionada a lista de pessoas com o valor '{pessoas['Ana']}' anos.\\n\"\n",
    "    f\"A idade de João é de {idade_joao} anos.\\n\" \n",
    "      )"
   ]
  },
  {
   "cell_type": "markdown",
   "metadata": {},
   "source": [
    "> Considerações:\n",
    "> - Para uma melhor exemplificação das funções, o dicionário foi ampliado para que houvesse mais variedade de pessoas e idades (maiores e menores de 18).\n",
    "> - O último bloco foi opcional para uma melhor visualização da resposta final."
   ]
  },
  {
   "cell_type": "markdown",
   "metadata": {},
   "source": [
    "# [PY-A04]"
   ]
  },
  {
   "cell_type": "markdown",
   "metadata": {},
   "source": [
    "#### Escreva uma função em Python que recebe dois números como argumentos e retorna o maior entre eles.\n",
    "\n",
    "a) Implemente a função com o nome \"maior_numero\" e utilizando condicionais.\n",
    "\n",
    "b) Implemente a mesma função, porém utilizando a função \"max\"."
   ]
  },
  {
   "cell_type": "code",
   "execution_count": null,
   "metadata": {},
   "outputs": [],
   "source": [
    "num01 = float(input(\"Digite um número: \"))\n",
    "num02 = float(input(\"Digite outro número: \"))\n",
    "\n",
    "while num01 == num02:\n",
    "    num02 = float(input(\"Os números não poderão ser iguais. Por favor, digite outro número: \"))\n",
    "\n",
    "print(\"\\n\")\n",
    "\n",
    "def maior_numero(num01, num02):\n",
    "    return f\"{num01} é maior que {num02}\" if num01 > num02 else f\"{num02} é maior que {num01}.\"\n",
    "\n",
    "def maior_numeroMax(num01, num02):\n",
    "    return f\"O maior número entre {num01} e {num02} é {max(num01, num02)}.\"\n",
    "# Se \"def\" não tiver um \"return\", não é função, e sim procedimento.\n",
    "\n",
    "resposta01 = maior_numero(num01, num02)\n",
    "resposta02 = maior_numeroMax(num01, num02)\n",
    "\n",
    "print(resposta01,\n",
    "      \"\\n==========================================\\n\",\n",
    "      resposta02)"
   ]
  }
 ],
 "metadata": {
  "kernelspec": {
   "display_name": "Python 3",
   "language": "python",
   "name": "python3"
  },
  "language_info": {
   "name": "python",
   "version": "3.11.5"
  }
 },
 "nbformat": 4,
 "nbformat_minor": 2
}
